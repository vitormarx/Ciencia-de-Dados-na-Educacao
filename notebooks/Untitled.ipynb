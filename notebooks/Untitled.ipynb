{
 "cells": [
  {
   "cell_type": "code",
   "execution_count": 27,
   "id": "6242a80c",
   "metadata": {},
   "outputs": [],
   "source": [
    "import urllib\n",
    "from bs4 import BeautifulSoup\n",
    "import requests\n",
    "from pathlib import Path"
   ]
  },
  {
   "cell_type": "code",
   "execution_count": null,
   "id": "9a9191c5",
   "metadata": {},
   "outputs": [],
   "source": [
    "def obter_dados_censo(url: str = 'https://www.gov.br/inep/pt-br/acesso-a-informacao/dados-abertos/microdados/censo-escolar') -> Path:\n",
    "    html = urllib.request.urlopen(url).read()\n",
    "    soup = BeautifulSoup(html, features='html.parser')\n",
    "    links = {tag['href'].split('_')[-1] : tag['href'] for tag in soup.find_all('a', {'class':'external-link'})}\n",
    "    \n",
    "    r = requests.get(links['1995.zip'], stream=True, verify=False)\n",
    "    \n",
    "    out_path = Path('../dados/censo_escolar')\n",
    "    out_path.mkdir(parents=True, exist_ok=True)\n",
    "    \n",
    "    for dado in links:\n",
    "        r = requests.get(links[dado], stream=True, verify=False)\n",
    "        with open(out_path/dado, 'wb') as file:\n",
    "            file.write(r.content)"
   ]
  }
 ],
 "metadata": {
  "kernelspec": {
   "display_name": "Python 3 (ipykernel)",
   "language": "python",
   "name": "python3"
  },
  "language_info": {
   "codemirror_mode": {
    "name": "ipython",
    "version": 3
   },
   "file_extension": ".py",
   "mimetype": "text/x-python",
   "name": "python",
   "nbconvert_exporter": "python",
   "pygments_lexer": "ipython3",
   "version": "3.9.13"
  }
 },
 "nbformat": 4,
 "nbformat_minor": 5
}
