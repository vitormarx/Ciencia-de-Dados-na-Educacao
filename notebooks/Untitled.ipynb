{
 "cells": [
  {
   "cell_type": "code",
   "execution_count": 25,
   "id": "6862d67c",
   "metadata": {},
   "outputs": [],
   "source": [
    "import urllib\n",
    "import requests\n",
    "from pathlib import Path\n",
    "from bs4 import BeautifulSoup\n",
    "\n",
    "from urllib3.exceptions import InsecureRequestWarning\n",
    "from urllib3 import disable_warnings\n",
    "\n",
    "disable_warnings(InsecureRequestWarning)"
   ]
  },
  {
   "cell_type": "code",
   "execution_count": 4,
   "id": "e585fb06",
   "metadata": {},
   "outputs": [],
   "source": [
    "html = urllib.request.urlopen(\"https://www.gov.br/inep/pt-br/acesso-a-informacao/dados-abertos/microdados/censo-escolar\")\n",
    "soup = BeautifulSoup(html, features='html.parser')\n",
    "tags = soup.find_all(\"a\", {'class':'external-link'})"
   ]
  },
  {
   "cell_type": "code",
   "execution_count": 13,
   "id": "f7fcc8c9",
   "metadata": {},
   "outputs": [
    {
     "data": {
      "text/plain": [
       "{'2021.zip': 'https://download.inep.gov.br/dados_abertos/microdados_censo_escolar_2021.zip',\n",
       " '2020.zip': 'https://download.inep.gov.br/dados_abertos/microdados_censo_escolar_2020.zip',\n",
       " '2019.zip': 'https://download.inep.gov.br/dados_abertos/microdados_censo_escolar_2019.zip',\n",
       " '2018.zip': 'https://download.inep.gov.br/dados_abertos/microdados_censo_escolar_2018.zip',\n",
       " '2017.zip': 'https://download.inep.gov.br/dados_abertos/microdados_censo_escolar_2017.zip',\n",
       " '2016.zip': 'https://download.inep.gov.br/dados_abertos/microdados_censo_escolar_2016.zip',\n",
       " '2015.zip': 'https://download.inep.gov.br/dados_abertos/microdados_censo_escolar_2015.zip',\n",
       " '2014.zip': 'https://download.inep.gov.br/dados_abertos/microdados_censo_escolar_2014.zip',\n",
       " '2013.zip': 'https://download.inep.gov.br/dados_abertos/microdados_censo_escolar_2013.zip',\n",
       " '2012.zip': 'https://download.inep.gov.br/dados_abertos/microdados_censo_escolar_2012.zip',\n",
       " '2011.zip': 'https://download.inep.gov.br/dados_abertos/microdados_censo_escolar_2011.zip',\n",
       " '2010.zip': 'https://download.inep.gov.br/dados_abertos/microdados_censo_escolar_2010.zip',\n",
       " '2009.zip': 'https://download.inep.gov.br/dados_abertos/microdados_censo_escolar_2009.zip',\n",
       " '2008.zip': 'https://download.inep.gov.br/dados_abertos/microdados_censo_escolar_2008.zip',\n",
       " '2007.zip': 'https://download.inep.gov.br/dados_abertos/microdados_censo_escolar_2007.zip',\n",
       " '2006.zip': 'https://download.inep.gov.br/dados_abertos/microdados_censo_escolar_2006.zip',\n",
       " '2005.zip': 'https://download.inep.gov.br/dados_abertos/microdados_censo_escolar_2005.zip',\n",
       " '2004.zip': 'https://download.inep.gov.br/dados_abertos/microdados_censo_escolar_2004.zip',\n",
       " '2003.zip': 'https://download.inep.gov.br/dados_abertos/microdados_censo_escolar_2003.zip',\n",
       " '2002.zip': 'https://download.inep.gov.br/dados_abertos/microdados_censo_escolar_2002.zip',\n",
       " '2001.zip': 'https://download.inep.gov.br/dados_abertos/microdados_censo_escolar_2001.zip',\n",
       " '2000.zip': 'https://download.inep.gov.br/dados_abertos/microdados_censo_escolar_2000.zip',\n",
       " '1999.zip': 'https://download.inep.gov.br/dados_abertos/microdados_censo_escolar_1999.zip',\n",
       " '1998.zip': 'https://download.inep.gov.br/dados_abertos/microdados_censo_escolar_1998.zip',\n",
       " '1997.zip': 'https://download.inep.gov.br/dados_abertos/microdados_censo_escolar_1997.zip',\n",
       " '1996.zip': 'https://download.inep.gov.br/dados_abertos/microdados_censo_escolar_1996.zip'}"
      ]
     },
     "execution_count": 13,
     "metadata": {},
     "output_type": "execute_result"
    }
   ],
   "source": [
    "links = {}\n",
    "for tag in soup.find_all('a', {'class':'external-link'}):\n",
    "    links[tag['href'].split('_')[-1]] = tag['href']\n",
    "    \n",
    "links"
   ]
  },
  {
   "cell_type": "code",
   "execution_count": 28,
   "id": "18e7da68",
   "metadata": {
    "scrolled": false
   },
   "outputs": [],
   "source": [
    "r = requests.get(links['1996.zip'], stream=True, verify=False)\n",
    "output = Path('../dados/censo_escolar')\n",
    "output.mkdir(parents=True, exist_ok=True)"
   ]
  },
  {
   "cell_type": "code",
   "execution_count": null,
   "id": "1d38fef9",
   "metadata": {},
   "outputs": [],
   "source": [
    "def get_data_from_web(url: str=\"https://www.gov.br/inep/pt-br/acesso-a-informacao/dados-abertos/microdados/censo-escolar\") -> Path:\n",
    "    html = urllib.request.urlopen(url).read()\n",
    "    \n",
    "    soup = BeautifulSoup(html, features='html.parser')\n",
    "    \n",
    "    links = {}\n",
    "    for tag in soup.find_all('a', {'class':'external-link'}):\n",
    "        links[tag['href'].split('_')[-1]] = tag['href']\n",
    "    \n",
    "    output = Path('../dados/censo_escolar')\n",
    "    output.mkdir(parents=True, exist_ok=True)\n",
    "    \n",
    "    for data in links:\n",
    "        r = requests.get(links[data], stream=True, verify=False)\n",
    "        with open(output/dado, 'wb') as file:\n",
    "            file.write(r.content)"
   ]
  }
 ],
 "metadata": {
  "kernelspec": {
   "display_name": "Python 3 (ipykernel)",
   "language": "python",
   "name": "python3"
  },
  "language_info": {
   "codemirror_mode": {
    "name": "ipython",
    "version": 3
   },
   "file_extension": ".py",
   "mimetype": "text/x-python",
   "name": "python",
   "nbconvert_exporter": "python",
   "pygments_lexer": "ipython3",
   "version": "3.9.12"
  }
 },
 "nbformat": 4,
 "nbformat_minor": 5
}
